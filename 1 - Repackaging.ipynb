{
 "cells": [
  {
   "cell_type": "code",
   "execution_count": 1,
   "metadata": {},
   "outputs": [],
   "source": [
    "import pandas as pd"
   ]
  },
  {
   "cell_type": "code",
   "execution_count": 3,
   "metadata": {},
   "outputs": [],
   "source": [
    "dataset = pd.read_hdf(\"./data/preprocessed/crisis-tweets-0.hdf\")"
   ]
  },
  {
   "cell_type": "code",
   "execution_count": 5,
   "metadata": {},
   "outputs": [
    {
     "data": {
      "text/html": [
       "<div>\n",
       "<style scoped>\n",
       "    .dataframe tbody tr th:only-of-type {\n",
       "        vertical-align: middle;\n",
       "    }\n",
       "\n",
       "    .dataframe tbody tr th {\n",
       "        vertical-align: top;\n",
       "    }\n",
       "\n",
       "    .dataframe thead th {\n",
       "        text-align: right;\n",
       "    }\n",
       "</style>\n",
       "<table border=\"1\" class=\"dataframe\">\n",
       "  <thead>\n",
       "    <tr style=\"text-align: right;\">\n",
       "      <th></th>\n",
       "      <th>id</th>\n",
       "      <th>text</th>\n",
       "      <th>label</th>\n",
       "      <th>crisis</th>\n",
       "    </tr>\n",
       "  </thead>\n",
       "  <tbody>\n",
       "    <tr>\n",
       "      <th>1</th>\n",
       "      <td>263044104500420609</td>\n",
       "      <td>Sandy be soooo mad that she be shattering our ...</td>\n",
       "      <td>on-topic</td>\n",
       "      <td>sandy_hurricane</td>\n",
       "    </tr>\n",
       "    <tr>\n",
       "      <th>5</th>\n",
       "      <td>263101347421888513</td>\n",
       "      <td>Neighborly duties. @Cory_Kennedy arrives to th...</td>\n",
       "      <td>on-topic</td>\n",
       "      <td>sandy_hurricane</td>\n",
       "    </tr>\n",
       "    <tr>\n",
       "      <th>7</th>\n",
       "      <td>263298821189156865</td>\n",
       "      <td>I don't know how I'm getting back to Jersey si...</td>\n",
       "      <td>on-topic</td>\n",
       "      <td>sandy_hurricane</td>\n",
       "    </tr>\n",
       "    <tr>\n",
       "      <th>10</th>\n",
       "      <td>262914476989358080</td>\n",
       "      <td>Already flooded so much #SANDY @ Hoboken http:...</td>\n",
       "      <td>on-topic</td>\n",
       "      <td>sandy_hurricane</td>\n",
       "    </tr>\n",
       "    <tr>\n",
       "      <th>12</th>\n",
       "      <td>262991999911743490</td>\n",
       "      <td>On that note, i pray that everyone stays safe,...</td>\n",
       "      <td>on-topic</td>\n",
       "      <td>sandy_hurricane</td>\n",
       "    </tr>\n",
       "  </tbody>\n",
       "</table>\n",
       "</div>"
      ],
      "text/plain": [
       "                    id                                               text  \\\n",
       "1   263044104500420609  Sandy be soooo mad that she be shattering our ...   \n",
       "5   263101347421888513  Neighborly duties. @Cory_Kennedy arrives to th...   \n",
       "7   263298821189156865  I don't know how I'm getting back to Jersey si...   \n",
       "10  262914476989358080  Already flooded so much #SANDY @ Hoboken http:...   \n",
       "12  262991999911743490  On that note, i pray that everyone stays safe,...   \n",
       "\n",
       "       label           crisis  \n",
       "1   on-topic  sandy_hurricane  \n",
       "5   on-topic  sandy_hurricane  \n",
       "7   on-topic  sandy_hurricane  \n",
       "10  on-topic  sandy_hurricane  \n",
       "12  on-topic  sandy_hurricane  "
      ]
     },
     "execution_count": 5,
     "metadata": {},
     "output_type": "execute_result"
    }
   ],
   "source": [
    "dataset.head()"
   ]
  },
  {
   "cell_type": "code",
   "execution_count": 8,
   "metadata": {},
   "outputs": [],
   "source": [
    "for crisis_name in set(dataset.crisis.values):\n",
    "    filename = f\"./data/for-liwc/{crisis_name}.csv\"\n",
    "    tweet_only_df = dataset[dataset.crisis.str.contains(crisis_name)].loc[:, ['id', 'text']]\n",
    "    tweet_only_df.to_csv(filename, index=False, encoding='utf-8')"
   ]
  },
  {
   "cell_type": "code",
   "execution_count": null,
   "metadata": {},
   "outputs": [],
   "source": []
  }
 ],
 "metadata": {
  "kernelspec": {
   "display_name": "Python 3",
   "language": "python",
   "name": "python3"
  },
  "language_info": {
   "codemirror_mode": {
    "name": "ipython",
    "version": 3
   },
   "file_extension": ".py",
   "mimetype": "text/x-python",
   "name": "python",
   "nbconvert_exporter": "python",
   "pygments_lexer": "ipython3",
   "version": "3.7.3"
  }
 },
 "nbformat": 4,
 "nbformat_minor": 2
}
