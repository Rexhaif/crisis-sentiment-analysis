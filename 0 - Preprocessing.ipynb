{
 "cells": [
  {
   "cell_type": "code",
   "execution_count": 19,
   "metadata": {},
   "outputs": [],
   "source": [
    "import pandas as pd\n",
    "import numpy as np"
   ]
  },
  {
   "cell_type": "code",
   "execution_count": 3,
   "metadata": {},
   "outputs": [],
   "source": [
    "data_folder = \"./data/CrisisLexT6\"\n",
    "datasets = {\n",
    "    'sandy_hurricane' : pd.read_csv(f\"{data_folder}/2012_Sandy_Hurricane/2012_Sandy_Hurricane-ontopic_offtopic.csv\"),\n",
    "    'alberta_floods'  : pd.read_csv(f\"{data_folder}/2013_Alberta_Floods/2013_Alberta_Floods-ontopic_offtopic.csv\"),\n",
    "    'boston_bombings' : pd.read_csv(f\"{data_folder}/2013_Boston_Bombings/2013_Boston_Bombings-ontopic_offtopic.csv\"),\n",
    "    'oklahoma_tornado': pd.read_csv(f\"{data_folder}/2013_Oklahoma_Tornado/2013_Oklahoma_Tornado-ontopic_offtopic.csv\"),\n",
    "    'texas_explosion' : pd.read_csv(f\"{data_folder}/2013_West_Texas_Explosion/2013_West_Texas_Explosion-ontopic_offtopic.csv\"),\n",
    "    'queensland_flood': pd.read_csv(f\"{data_folder}/2013_Queensland_Floods/2013_Queensland_Floods-ontopic_offtopic.csv\")\n",
    "}"
   ]
  },
  {
   "cell_type": "code",
   "execution_count": 8,
   "metadata": {},
   "outputs": [],
   "source": [
    "for key in datasets.keys():\n",
    "    df = datasets[key]\n",
    "    df['id'] = df['tweet id']\n",
    "    df['text'] = df[' tweet']\n",
    "    df['label'] = df[' label']\n",
    "    datasets[key] = df.drop(['tweet id', ' tweet', ' label'], axis=1)"
   ]
  },
  {
   "cell_type": "code",
   "execution_count": 9,
   "metadata": {},
   "outputs": [
    {
     "data": {
      "text/html": [
       "<div>\n",
       "<style scoped>\n",
       "    .dataframe tbody tr th:only-of-type {\n",
       "        vertical-align: middle;\n",
       "    }\n",
       "\n",
       "    .dataframe tbody tr th {\n",
       "        vertical-align: top;\n",
       "    }\n",
       "\n",
       "    .dataframe thead th {\n",
       "        text-align: right;\n",
       "    }\n",
       "</style>\n",
       "<table border=\"1\" class=\"dataframe\">\n",
       "  <thead>\n",
       "    <tr style=\"text-align: right;\">\n",
       "      <th></th>\n",
       "      <th>id</th>\n",
       "      <th>text</th>\n",
       "      <th>label</th>\n",
       "    </tr>\n",
       "  </thead>\n",
       "  <tbody>\n",
       "    <tr>\n",
       "      <th>0</th>\n",
       "      <td>'262596552399396864'</td>\n",
       "      <td>I've got enough candles to supply a Mexican fa...</td>\n",
       "      <td>off-topic</td>\n",
       "    </tr>\n",
       "    <tr>\n",
       "      <th>1</th>\n",
       "      <td>'263044104500420609'</td>\n",
       "      <td>Sandy be soooo mad that she be shattering our ...</td>\n",
       "      <td>on-topic</td>\n",
       "    </tr>\n",
       "    <tr>\n",
       "      <th>2</th>\n",
       "      <td>'263309629973491712'</td>\n",
       "      <td>@ibexgirl thankfully Hurricane Waugh played it...</td>\n",
       "      <td>off-topic</td>\n",
       "    </tr>\n",
       "    <tr>\n",
       "      <th>3</th>\n",
       "      <td>'263422851133079552'</td>\n",
       "      <td>@taos you never got that magnificent case of B...</td>\n",
       "      <td>off-topic</td>\n",
       "    </tr>\n",
       "    <tr>\n",
       "      <th>4</th>\n",
       "      <td>'262404311223504896'</td>\n",
       "      <td>I'm at Mad River Bar &amp;amp; Grille (New York, N...</td>\n",
       "      <td>off-topic</td>\n",
       "    </tr>\n",
       "  </tbody>\n",
       "</table>\n",
       "</div>"
      ],
      "text/plain": [
       "                     id                                               text  \\\n",
       "0  '262596552399396864'  I've got enough candles to supply a Mexican fa...   \n",
       "1  '263044104500420609'  Sandy be soooo mad that she be shattering our ...   \n",
       "2  '263309629973491712'  @ibexgirl thankfully Hurricane Waugh played it...   \n",
       "3  '263422851133079552'  @taos you never got that magnificent case of B...   \n",
       "4  '262404311223504896'  I'm at Mad River Bar &amp; Grille (New York, N...   \n",
       "\n",
       "       label  \n",
       "0  off-topic  \n",
       "1   on-topic  \n",
       "2  off-topic  \n",
       "3  off-topic  \n",
       "4  off-topic  "
      ]
     },
     "execution_count": 9,
     "metadata": {},
     "output_type": "execute_result"
    }
   ],
   "source": [
    "datasets['sandy_hurricane'].head()"
   ]
  },
  {
   "cell_type": "code",
   "execution_count": 10,
   "metadata": {},
   "outputs": [
    {
     "name": "stdout",
     "output_type": "stream",
     "text": [
      "--------------------------------------------------\n",
      "sandy_hurricane\n",
      "--------------------------------------------------\n",
      "on-topic     6138\n",
      "off-topic    3870\n",
      "Name: label, dtype: int64\n",
      "--------------------------------------------------\n",
      "alberta_floods\n",
      "--------------------------------------------------\n",
      "on-topic     5189\n",
      "off-topic    4842\n",
      "Name: label, dtype: int64\n",
      "--------------------------------------------------\n",
      "boston_bombings\n",
      "--------------------------------------------------\n",
      "on-topic     5648\n",
      "off-topic    4364\n",
      "Name: label, dtype: int64\n",
      "--------------------------------------------------\n",
      "oklahoma_tornado\n",
      "--------------------------------------------------\n",
      "off-topic    5165\n",
      "on-topic     4827\n",
      "Name: label, dtype: int64\n",
      "--------------------------------------------------\n",
      "texas_explosion\n",
      "--------------------------------------------------\n",
      "on-topic     5246\n",
      "off-topic    4760\n",
      "Name: label, dtype: int64\n",
      "--------------------------------------------------\n",
      "queensland_flood\n",
      "--------------------------------------------------\n",
      "on-topic     5414\n",
      "off-topic    4619\n",
      "Name: label, dtype: int64\n"
     ]
    }
   ],
   "source": [
    "for key, df in datasets.items():\n",
    "    vc = df['label'].value_counts()\n",
    "    print(\"-\"*50)\n",
    "    print(f\"{key}\")\n",
    "    print(\"-\"*50)\n",
    "    print(vc)"
   ]
  },
  {
   "cell_type": "code",
   "execution_count": 13,
   "metadata": {},
   "outputs": [],
   "source": [
    "for key in datasets.keys():\n",
    "    df = datasets[key]\n",
    "    df = df[df['label'].str.contains('on-topic')]\n",
    "    datasets[key] = df"
   ]
  },
  {
   "cell_type": "code",
   "execution_count": 14,
   "metadata": {},
   "outputs": [
    {
     "name": "stdout",
     "output_type": "stream",
     "text": [
      "--------------------------------------------------\n",
      "sandy_hurricane\n",
      "--------------------------------------------------\n",
      "on-topic    6138\n",
      "Name: label, dtype: int64\n",
      "--------------------------------------------------\n",
      "alberta_floods\n",
      "--------------------------------------------------\n",
      "on-topic    5189\n",
      "Name: label, dtype: int64\n",
      "--------------------------------------------------\n",
      "boston_bombings\n",
      "--------------------------------------------------\n",
      "on-topic    5648\n",
      "Name: label, dtype: int64\n",
      "--------------------------------------------------\n",
      "oklahoma_tornado\n",
      "--------------------------------------------------\n",
      "on-topic    4827\n",
      "Name: label, dtype: int64\n",
      "--------------------------------------------------\n",
      "texas_explosion\n",
      "--------------------------------------------------\n",
      "on-topic    5246\n",
      "Name: label, dtype: int64\n",
      "--------------------------------------------------\n",
      "queensland_flood\n",
      "--------------------------------------------------\n",
      "on-topic    5414\n",
      "Name: label, dtype: int64\n"
     ]
    }
   ],
   "source": [
    "for key, df in datasets.items():\n",
    "    vc = df['label'].value_counts()\n",
    "    print(\"-\"*50)\n",
    "    print(f\"{key}\")\n",
    "    print(\"-\"*50)\n",
    "    print(vc)"
   ]
  },
  {
   "cell_type": "code",
   "execution_count": 24,
   "metadata": {},
   "outputs": [],
   "source": [
    "for key in datasets.keys():\n",
    "    datasets[key]['crisis'] = key"
   ]
  },
  {
   "cell_type": "code",
   "execution_count": 25,
   "metadata": {},
   "outputs": [],
   "source": [
    "all_datasets = pd.concat(list(datasets.values()))"
   ]
  },
  {
   "cell_type": "code",
   "execution_count": 26,
   "metadata": {},
   "outputs": [],
   "source": [
    "all_datasets['id'] = all_datasets['id'].apply(lambda x: int(x.replace(\"'\", \"\")))"
   ]
  },
  {
   "cell_type": "code",
   "execution_count": 32,
   "metadata": {},
   "outputs": [],
   "source": [
    "all_datasets.to_hdf(\"./data/preprocessed/crisis-tweets-0.hdf\", 'df')"
   ]
  }
 ],
 "metadata": {
  "kernelspec": {
   "display_name": "Python 3",
   "language": "python",
   "name": "python3"
  },
  "language_info": {
   "codemirror_mode": {
    "name": "ipython",
    "version": 3
   },
   "file_extension": ".py",
   "mimetype": "text/x-python",
   "name": "python",
   "nbconvert_exporter": "python",
   "pygments_lexer": "ipython3",
   "version": "3.7.3"
  }
 },
 "nbformat": 4,
 "nbformat_minor": 2
}
